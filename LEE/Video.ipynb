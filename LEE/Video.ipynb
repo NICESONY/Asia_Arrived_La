{
 "cells": [
  {
   "cell_type": "markdown",
   "id": "3a8d89af-f8bc-49ea-a77d-e0f47dbe4053",
   "metadata": {},
   "source": [
    "## 1. FGSM-nontargeted"
   ]
  },
  {
   "cell_type": "code",
   "execution_count": 1,
   "id": "5275d2b1-f5cf-4899-ba00-b96f0c245f33",
   "metadata": {},
   "outputs": [],
   "source": [
    "# import the necessary packages\n",
    "from tensorflow.keras.losses import MSE\n",
    "import tensorflow as tf\n",
    "\n",
    "def generate_image_adversary(model, image, label, eps=2 / 255.0):\n",
    "\t# cast the image\n",
    "\timage = tf.cast(image, tf.float32)\n",
    " \n",
    " \t# record our gradients\n",
    "\twith tf.GradientTape() as tape:\n",
    "\t\t# explicitly indicate that our image should be tacked for\n",
    "\t\t# gradient updates\n",
    "\t\ttape.watch(image)\n",
    "  \n",
    "\t\t# use our model to make predictions on the input image and\n",
    "\t\t# then compute the loss\n",
    "\t\tpred = model(image)\n",
    "\t\tloss = MSE(label, pred)\n",
    "  \n",
    "  \t# calculate the gradients of loss with respect to the image, then\n",
    "\t# compute the sign of the gradient\n",
    "\tgradient = tape.gradient(loss, image)\n",
    "\tsignedGrad = tf.sign(gradient)\n",
    " \n",
    "\t# construct the image adversary\n",
    "\tadversary = (image + (signedGrad * eps)).numpy()\n",
    " \n",
    "\t# return the image adversary to the calling function\n",
    "\treturn adversary"
   ]
  },
  {
   "cell_type": "code",
   "execution_count": 2,
   "id": "af13ab35-9b33-42da-95ab-2e40caba28aa",
   "metadata": {},
   "outputs": [],
   "source": [
    "from tensorflow.keras.models import load_model\n",
    "import numpy as np\n",
    "import cv2\n",
    "import os"
   ]
  },
  {
   "cell_type": "code",
   "execution_count": 3,
   "id": "e7267f2b-c2b0-4bf5-95a0-c4f4e5e6b58c",
   "metadata": {},
   "outputs": [],
   "source": [
    "ClassNames = ['Aircraft Carrier', 'Bulkers', 'Car Carrier', 'Container Ship', 'Cruise', 'DDG', 'Recreational', 'Sailboat', 'Submarine', 'Tug']"
   ]
  },
  {
   "cell_type": "code",
   "execution_count": 5,
   "id": "a0276a46-5d36-467e-ba22-35dd1daa61e7",
   "metadata": {},
   "outputs": [],
   "source": [
    "import os\n",
    "import cv2\n",
    "import numpy as np\n",
    "base_path = r'C:\\dev\\workspace\\Asia_Arrived_La\\Data\\Ships_dataset\\train'\n",
    "data_image = os.path.join(base_path, 'images')\n",
    "data_label = os.path.join(base_path, 'labels')\n",
    "traindata = []\n",
    "pathi = os.path.join(data_image)\n",
    "pathl = os.path.join(data_label)\n",
    "\n",
    "for file in os.listdir(pathi):\n",
    "    file_p  = os.path.join(pathi, file)\n",
    "    image = cv2.imread(file_p)\n",
    "    image = np.array(image)\n",
    "    image=cv2.resize(image, (64,64),interpolation=cv2.INTER_LINEAR)\n",
    "    traindata.append(image)"
   ]
  },
  {
   "cell_type": "code",
   "execution_count": 6,
   "id": "b8da3094-f130-4792-a3fa-648a319bda4b",
   "metadata": {},
   "outputs": [],
   "source": [
    "import os\n",
    "trainlabel = []\n",
    "for file in os.listdir(pathl):\n",
    "    file_p  = os.path.join(pathl, file)\n",
    "    f = open(file_p, \"r\")\n",
    "    a = int(f.read(1))\n",
    "    trainlabel.append(a)"
   ]
  },
  {
   "cell_type": "markdown",
   "id": "24acb039-3f10-49e7-bb89-30ea63f3dc27",
   "metadata": {},
   "source": [
    "## 2. model"
   ]
  },
  {
   "cell_type": "code",
   "execution_count": 11,
   "id": "16858ee9-da49-4ab7-8e0b-ca56b0188d41",
   "metadata": {},
   "outputs": [
    {
     "name": "stderr",
     "output_type": "stream",
     "text": [
      "C:\\Users\\User\\anaconda3\\Lib\\site-packages\\keras\\src\\layers\\convolutional\\base_conv.py:107: UserWarning: Do not pass an `input_shape`/`input_dim` argument to a layer. When using Sequential models, prefer using an `Input(shape)` object as the first layer in the model instead.\n",
      "  super().__init__(activity_regularizer=activity_regularizer, **kwargs)\n"
     ]
    }
   ],
   "source": [
    "from tensorflow.keras import datasets,layers,models\n",
    "model = models.Sequential()\n",
    "model.add(layers.Conv2D(64,(3,3),activation='relu',input_shape=(64,64,3)))\n",
    "model.add(layers.MaxPooling2D((2,2)))\n",
    "model.add(layers.Conv2D(128,(3,3),activation='relu'))\n",
    "model.add(layers.MaxPooling2D((2,2)))\n",
    "model.add(layers.Conv2D(128,(3,3),activation='relu'))\n",
    "model.add(layers.Flatten())\n",
    "model.add(layers.Dense(128,activation='relu'))\n",
    "model.add(layers.Dense(64,activation='relu'))\n",
    "model.add(layers.Dense(10,activation='softmax'))\n",
    "\n",
    "model.compile(optimizer='adam',loss='sparse_categorical_crossentropy',metrics=['accuracy'])"
   ]
  },
  {
   "cell_type": "code",
   "execution_count": null,
   "id": "cf6d2767-7731-4fea-9bff-0a4c8582e3f4",
   "metadata": {},
   "outputs": [
    {
     "name": "stdout",
     "output_type": "stream",
     "text": [
      "\u001b[1m1/1\u001b[0m \u001b[32m━━━━━━━━━━━━━━━━━━━━\u001b[0m\u001b[37m\u001b[0m \u001b[1m0s\u001b[0m 327ms/step\n"
     ]
    }
   ],
   "source": [
    "for i in np.random.choice(np.arange(0, len(traindata)), size=(10,)):\n",
    "    image = traindata[i]\n",
    "    label = trainlabel[i]\n",
    "\n",
    "    # 이미지에 대한 적대적 샘플 생성\n",
    "    adversary = generate_image_adversary(model, image.reshape(1, 64, 64, 3), label, eps=0.1)\n",
    "    pred = model.predict(adversary)\n",
    "    \n",
    "    # 예측된 숫자 레이블을 클래스 이름으로 변환\n",
    "    imagePred = ClassNames[label]\n",
    "    adversaryPred = ClassNames[pred[0].argmax()]\n",
    "\n",
    "    # 확신도 계산\n",
    "    confidence = pred[0].max() * 100  # 확률을 백분율로 변환\n",
    "    color = (0, 255, 0)\n",
    "\n",
    "    # 예측이 다를 경우 빨간색으로 표시\n",
    "    if imagePred != adversaryPred:\n",
    "        color = (0, 0, 255)\n",
    "\n",
    "    # 이미지를 [0, 255] 범위로 스케일 조정\n",
    "    adversary = adversary.reshape((64, 64, 3)) * 255\n",
    "    adversary = np.clip(adversary, 0, 255).astype(\"uint8\")\n",
    "    image = (image * 255).astype(\"uint8\")\n",
    "\n",
    "    # 이미지 및 적대적 이미지에 클래스 이름과 확신도 표시\n",
    "    image = cv2.resize(image, (384, 384))\n",
    "    adversary = cv2.resize(adversary, (384, 384))\n",
    "\n",
    "    cv2.putText(image, f\"{imagePred}\", (2, 25), cv2.FONT_HERSHEY_SIMPLEX, 0.95, (0, 255, 0), 2)\n",
    "    cv2.putText(adversary, f\"{adversaryPred} ({confidence:.2f}%)\", (2, 25), cv2.FONT_HERSHEY_SIMPLEX, 0.95, color, 2)\n",
    "\n",
    "    output = np.hstack([image, adversary])\n",
    "    cv2.imshow(\"FGSM Adversarial Images\", output)\n",
    "    cv2.waitKey(0)"
   ]
  },
  {
   "cell_type": "code",
   "execution_count": null,
   "id": "82b2ef3c-8d3e-4e71-b5a4-013c77637abe",
   "metadata": {},
   "outputs": [],
   "source": [
    "import torch \n",
    "import numpy as np\n",
    "\n",
    "extended_image = []\n",
    "extended_labels = []\n",
    "\n",
    "for i in range(len(traindata)):\n",
    "    image = traindata[i]\n",
    "    label = trainlabel[i]\n",
    "    extended_image.append(image)\n",
    "    extended_label.append(label)\n",
    "    adversary = generate_image_adversary(model, image.reshape(1, 64, 64, 3), label, eps=0.1)\n",
    "    adversary = adversary.reshape(64,64,3)\n",
    "    extended_image.append(adversary)\n",
    "    extended_label.append(label)\n",
    "\n",
    "extended_image = np.array(extended_image)\n",
    "extended_label = np.array(extended_label)\n",
    "\n",
    "extended_image = torch.tensor(extended_image).permute(0,3,1,2).float()\n",
    "extended_label = torch.tensor(extended_label).long()\n",
    "\n",
    "extended_dataset = torch.utils.data.TensorDataset(extended_image, extended_labels)\n",
    "extended_loader = torch.utils.data.DataLoader(extended_dataset, batch_size=64, shuffle=True)"
   ]
  },
  {
   "cell_type": "code",
   "execution_count": null,
   "id": "587abac5-48e0-4d72-baab-5dc8ad318491",
   "metadata": {},
   "outputs": [],
   "source": []
  }
 ],
 "metadata": {
  "kernelspec": {
   "display_name": "Python 3 (ipykernel)",
   "language": "python",
   "name": "python3"
  },
  "language_info": {
   "codemirror_mode": {
    "name": "ipython",
    "version": 3
   },
   "file_extension": ".py",
   "mimetype": "text/x-python",
   "name": "python",
   "nbconvert_exporter": "python",
   "pygments_lexer": "ipython3",
   "version": "3.11.9"
  }
 },
 "nbformat": 4,
 "nbformat_minor": 5
}
