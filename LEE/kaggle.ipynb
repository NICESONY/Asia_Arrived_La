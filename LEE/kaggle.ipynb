{
 "cells": [
  {
   "cell_type": "markdown",
   "id": "18855e86-4c14-4998-8ba2-25f141d97a74",
   "metadata": {},
   "source": [
    "Dependacies"
   ]
  },
  {
   "cell_type": "code",
   "execution_count": 1,
   "id": "d5d9df7a-b6c2-48c1-9714-231129d00c45",
   "metadata": {},
   "outputs": [],
   "source": [
    "import numpy as np\n",
    "import pandas as pd\n",
    "import cv2\n",
    "import matplotlib.pyplot as plt\n",
    "from tensorflow.keras import datasets,layers,models\n",
    "import os\n",
    "import random"
   ]
  },
  {
   "cell_type": "markdown",
   "id": "ae8e0089-2fde-4c08-8d7c-400db20e955d",
   "metadata": {},
   "source": [
    "Importing Training Data"
   ]
  },
  {
   "cell_type": "code",
   "execution_count": 2,
   "id": "4135536a-557d-433a-892d-a5951dec9f25",
   "metadata": {},
   "outputs": [],
   "source": [
    "ClassNames = ['Aircraft Carrier', 'Bulkers', 'Car Carrier', 'Container Ship', 'Cruise', 'DDG', 'Recreational', 'Sailboat', 'Submarine', 'Tug']"
   ]
  },
  {
   "cell_type": "code",
   "execution_count": null,
   "id": "ab458f1d-8ac1-43c1-a7f4-21cc2008f7ef",
   "metadata": {},
   "outputs": [],
   "source": [
    "import os\n",
    "base_path = 'c:\\dev\\workspace\\Asia_Arrived_La'\n",
    "relative_path = '"
   ]
  },
  {
   "cell_type": "code",
   "execution_count": 5,
   "id": "d237f21f-90e0-42d5-a60b-4f5049533db2",
   "metadata": {},
   "outputs": [
    {
     "ename": "NameError",
     "evalue": "name 'os' is not defined",
     "output_type": "error",
     "traceback": [
      "\u001b[1;31m---------------------------------------------------------------------------\u001b[0m",
      "\u001b[1;31mNameError\u001b[0m                                 Traceback (most recent call last)",
      "Cell \u001b[1;32mIn[5], line 4\u001b[0m\n\u001b[0;32m      2\u001b[0m data_label \u001b[38;5;241m=\u001b[39m \u001b[38;5;124m'\u001b[39m\u001b[38;5;124m/kaggle/input/ships-dataset/Ships dataset/train/labels\u001b[39m\u001b[38;5;124m'\u001b[39m\n\u001b[0;32m      3\u001b[0m traindata \u001b[38;5;241m=\u001b[39m []\n\u001b[1;32m----> 4\u001b[0m pathi \u001b[38;5;241m=\u001b[39m os\u001b[38;5;241m.\u001b[39mpath\u001b[38;5;241m.\u001b[39mjoin(file_name)\n\u001b[0;32m      5\u001b[0m pathl \u001b[38;5;241m=\u001b[39m os\u001b[38;5;241m.\u001b[39mpath\u001b[38;5;241m.\u001b[39mjoin(file_name)\n\u001b[0;32m      7\u001b[0m \u001b[38;5;28;01mfor\u001b[39;00m file \u001b[38;5;129;01min\u001b[39;00m os\u001b[38;5;241m.\u001b[39mlistdir(pathi):\n",
      "\u001b[1;31mNameError\u001b[0m: name 'os' is not defined"
     ]
    }
   ],
   "source": [
    "data_image = '/kaggle/input/ships-dataset/Ships dataset/train/images'\n",
    "data_label = '/kaggle/input/ships-dataset/Ships dataset/train/labels'\n",
    "traindata = []\n",
    "pathi = os.path.join(file_name)\n",
    "pathl = os.path.join(file_name)\n",
    "\n",
    "for file in os.listdir(pathi):\n",
    "    file_p  = os.path.join(pathi, file)\n",
    "    image = cv2.imread(file_p)\n",
    "    image = np.array(image)\n",
    "    image=cv2.resize(image, (64,64),interpolation=cv2.INTER_LINEAR)\n",
    "    traindata.append(image)"
   ]
  },
  {
   "cell_type": "code",
   "execution_count": 2,
   "id": "3b842e49-c224-45ce-93b0-fea69a348e97",
   "metadata": {},
   "outputs": [
    {
     "ename": "NameError",
     "evalue": "name 'os' is not defined",
     "output_type": "error",
     "traceback": [
      "\u001b[1;31m---------------------------------------------------------------------------\u001b[0m",
      "\u001b[1;31mNameError\u001b[0m                                 Traceback (most recent call last)",
      "Cell \u001b[1;32mIn[2], line 2\u001b[0m\n\u001b[0;32m      1\u001b[0m trainlabel \u001b[38;5;241m=\u001b[39m []\n\u001b[1;32m----> 2\u001b[0m \u001b[38;5;28;01mfor\u001b[39;00m file \u001b[38;5;129;01min\u001b[39;00m os\u001b[38;5;241m.\u001b[39mlistdir(pathl):\n\u001b[0;32m      3\u001b[0m     file_p  \u001b[38;5;241m=\u001b[39m os\u001b[38;5;241m.\u001b[39mpath\u001b[38;5;241m.\u001b[39mjoin(pathl, file)\n\u001b[0;32m      4\u001b[0m     f \u001b[38;5;241m=\u001b[39m \u001b[38;5;28mopen\u001b[39m(file_p, \u001b[38;5;124m\"\u001b[39m\u001b[38;5;124mr\u001b[39m\u001b[38;5;124m\"\u001b[39m)\n",
      "\u001b[1;31mNameError\u001b[0m: name 'os' is not defined"
     ]
    }
   ],
   "source": [
    "trainlabel = []\n",
    "for file in os.listdir(pathl):\n",
    "    file_p  = os.path.join(pathl, file)\n",
    "    f = open(file_p, \"r\")\n",
    "    a = int(f.read(1))\n",
    "    trainlabel.append(a)"
   ]
  },
  {
   "cell_type": "code",
   "execution_count": null,
   "id": "3cb3475f-3577-4173-929c-a75fa80c8ca8",
   "metadata": {},
   "outputs": [],
   "source": [
    "data = []\n",
    "for i in range(0,len(trainlabel)):\n",
    "    traindata[i] = traindata[i]/255\n",
    "    data.append((traindata[i], trainlabel[i]))\n",
    "\n",
    "random.shuffle(data)\n",
    "images, labels =  [], []\n",
    "for a, b in data:\n",
    "    images.append(a)\n",
    "    labels.append(b)"
   ]
  },
  {
   "cell_type": "code",
   "execution_count": 3,
   "id": "6ae01e60-bd4a-436b-93d3-3e88947b7754",
   "metadata": {},
   "outputs": [
    {
     "ename": "NameError",
     "evalue": "name 'plt' is not defined",
     "output_type": "error",
     "traceback": [
      "\u001b[1;31m---------------------------------------------------------------------------\u001b[0m",
      "\u001b[1;31mNameError\u001b[0m                                 Traceback (most recent call last)",
      "Cell \u001b[1;32mIn[3], line 2\u001b[0m\n\u001b[0;32m      1\u001b[0m \u001b[38;5;28;01mfor\u001b[39;00m i \u001b[38;5;129;01min\u001b[39;00m \u001b[38;5;28mrange\u001b[39m(\u001b[38;5;241m16\u001b[39m):\n\u001b[1;32m----> 2\u001b[0m     plt\u001b[38;5;241m.\u001b[39msubplot(\u001b[38;5;241m4\u001b[39m,\u001b[38;5;241m4\u001b[39m,i\u001b[38;5;241m+\u001b[39m\u001b[38;5;241m1\u001b[39m)\n\u001b[0;32m      3\u001b[0m     plt\u001b[38;5;241m.\u001b[39mxticks([])\n\u001b[0;32m      4\u001b[0m     plt\u001b[38;5;241m.\u001b[39myticks([])\n",
      "\u001b[1;31mNameError\u001b[0m: name 'plt' is not defined"
     ]
    }
   ],
   "source": [
    "for i in range(16):\n",
    "    plt.subplot(4,4,i+1)\n",
    "    plt.xticks([])\n",
    "    plt.yticks([])\n",
    "    plt.imshow(images[i],cmap=plt.cm.binary)\n",
    "    plt.xlabel(ClassNames[labels[i]])\n",
    "plt.show()"
   ]
  },
  {
   "cell_type": "code",
   "execution_count": null,
   "id": "1a0f6dca-c53c-4fb4-bda7-7c5c660fb220",
   "metadata": {},
   "outputs": [],
   "source": [
    "data_image = '/kaggle/input/ships-dataset/Ships dataset/valid/images'\n",
    "data_label = '/kaggle/input/ships-dataset/Ships dataset/valid/labels'\n",
    "validdata = []\n",
    "pathi = os.path.join(data_image)\n",
    "pathl = os.path.join(data_label)\n",
    "\n",
    "for file in os.listdir(pathi):\n",
    "    file_p  = os.path.join(pathi, file)\n",
    "    image = cv2.imread(file_p)\n",
    "    image = np.array(image)\n",
    "    image=cv2.resize(image, (64,64),interpolation=cv2.INTER_LINEAR)\n",
    "    validdata.append(image)\n",
    "    \n",
    "validlabel = []\n",
    "for file in os.listdir(pathl):\n",
    "    file_p  = os.path.join(pathl, file)\n",
    "    f = open(file_p, \"r\")\n",
    "    a = int(f.read(1))\n",
    "    validlabel.append(a)\n",
    "    \n",
    "validation = []\n",
    "for i in range(0,len(validlabel)):\n",
    "    validdata[i] = validdata[i]/255\n",
    "    validation.append((validdata[i], validlabel[i]))\n",
    "\n",
    "random.shuffle(validation)\n",
    "validationimages, validationlabels =  [], []\n",
    "for a, b in validation:\n",
    "    validationimages.append(a)\n",
    "    validationlabels.append(b)"
   ]
  },
  {
   "cell_type": "code",
   "execution_count": null,
   "id": "df410b92-eafc-44d6-a440-071d886b5a56",
   "metadata": {},
   "outputs": [],
   "source": [
    "images = np.array(images)\n",
    "labels = np.array(labels)\n",
    "validationimages = np.array(validationimages)\n",
    "validationlabels = np.array(validationlabels)"
   ]
  },
  {
   "cell_type": "code",
   "execution_count": null,
   "id": "77c6b730-32d4-41d2-8382-9b189e5cf4da",
   "metadata": {},
   "outputs": [],
   "source": [
    "model = models.Sequential()\n",
    "model.add(layers.Conv2D(64,(3,3),activation='relu',input_shape=(64,64,3)))\n",
    "model.add(layers.MaxPooling2D((2,2)))\n",
    "model.add(layers.Conv2D(128,(3,3),activation='relu'))\n",
    "model.add(layers.MaxPooling2D((2,2)))\n",
    "model.add(layers.Conv2D(128,(3,3),activation='relu'))\n",
    "model.add(layers.Flatten())\n",
    "model.add(layers.Dense(128,activation='relu'))\n",
    "model.add(layers.Dense(64,activation='relu'))\n",
    "model.add(layers.Dense(10,activation='softmax'))\n",
    "\n",
    "model.compile(optimizer='adam',loss='sparse_categorical_crossentropy',metrics=['accuracy'])"
   ]
  },
  {
   "cell_type": "code",
   "execution_count": null,
   "id": "d4722152-9439-4680-ac2b-e72e2feb4bc5",
   "metadata": {},
   "outputs": [],
   "source": [
    "model.fit(images,labels,batch_size = 32,epochs=20,validation_data=(validationimages,validationlabels))\n",
    "\n",
    "loss, accuracy = model.evaluate(images,labels)\n",
    "print(f\"Loss: {loss}\")\n",
    "print(f\"Accuracy: {accuracy}\")"
   ]
  }
 ],
 "metadata": {
  "kernelspec": {
   "display_name": "Python 3 (ipykernel)",
   "language": "python",
   "name": "python3"
  },
  "language_info": {
   "codemirror_mode": {
    "name": "ipython",
    "version": 3
   },
   "file_extension": ".py",
   "mimetype": "text/x-python",
   "name": "python",
   "nbconvert_exporter": "python",
   "pygments_lexer": "ipython3",
   "version": "3.11.9"
  }
 },
 "nbformat": 4,
 "nbformat_minor": 5
}
