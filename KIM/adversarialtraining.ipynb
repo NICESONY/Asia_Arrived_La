{
 "cells": [
  {
   "cell_type": "markdown",
   "metadata": {},
   "source": [
    "# *Adversarial Training*\n",
    "fgsm 공격 후 adversarial examples를 생성하여 훈련하는 과정"
   ]
  },
  {
   "cell_type": "code",
   "execution_count": 21,
   "metadata": {},
   "outputs": [],
   "source": [
    "import numpy as np\n",
    "import cv2\n",
    "import tensorflow as tf\n",
    "from tensorflow.keras import backend as K\n",
    "from tensorflow.keras.optimizers import Adam"
   ]
  },
  {
   "cell_type": "code",
   "execution_count": 22,
   "metadata": {},
   "outputs": [],
   "source": [
    "# FGSM 공격 함수\n",
    "def fgsm_attack(model, images, labels, epsilon):\n",
    "    images = tf.convert_to_tensor(images)  # numpy 배열을 텐서로 변환\n",
    "    labels = tf.convert_to_tensor(labels)  # 레이블도 텐서로 변환\n",
    "    with tf.GradientTape() as tape:\n",
    "        tape.watch(images)\n",
    "        predictions = model(images)\n",
    "        loss = tf.keras.losses.sparse_categorical_crossentropy(labels, predictions)\n",
    "    gradient = tape.gradient(loss, images)\n",
    "    adversarial_images = images + epsilon * tf.sign(gradient)\n",
    "    adversarial_images = tf.clip_by_value(adversarial_images, 0, 1)\n",
    "    return adversarial_images"
   ]
  },
  {
   "cell_type": "code",
   "execution_count": 23,
   "metadata": {},
   "outputs": [],
   "source": [
    "from tensorflow.keras.models import load_model\n",
    "from tensorflow.keras.preprocessing.image import ImageDataGenerator"
   ]
  },
  {
   "cell_type": "code",
   "execution_count": 24,
   "metadata": {},
   "outputs": [
    {
     "name": "stderr",
     "output_type": "stream",
     "text": [
      "WARNING:absl:Compiled the loaded model, but the compiled metrics have yet to be built. `model.compile_metrics` will be empty until you train or evaluate the model.\n"
     ]
    }
   ],
   "source": [
    "# 모델 로드\n",
    "model = tf.keras.models.load_model('ShipClassifierV1.h5')"
   ]
  },
  {
   "cell_type": "code",
   "execution_count": 25,
   "metadata": {},
   "outputs": [
    {
     "name": "stdout",
     "output_type": "stream",
     "text": [
      "Found 7406 images belonging to 2 classes.\n",
      "Found 381 images belonging to 2 classes.\n"
     ]
    }
   ],
   "source": [
    "# 데이터셋 경로 설정 및 로드\n",
    "train_dir = '/kaggle/input/ships-dataset/Ships dataset/train'\n",
    "test_dir = '/kaggle/input/ships-dataset/Ships dataset/test'\n",
    "\n",
    "train_datagen = ImageDataGenerator(\n",
    "    rescale=1.0/255.0,\n",
    "    rotation_range=20,\n",
    "    width_shift_range=0.2,\n",
    "    height_shift_range=0.2,\n",
    "    shear_range=0.2,\n",
    "    zoom_range=0.2,\n",
    "    horizontal_flip=True,\n",
    "    fill_mode='nearest'\n",
    ")\n",
    "\n",
    "test_datagen = ImageDataGenerator(rescale=1.0/255.0)\n",
    "\n",
    "train_generator = train_datagen.flow_from_directory(\n",
    "    train_dir,\n",
    "    target_size=(64, 64),\n",
    "    batch_size=batch_size,\n",
    "    class_mode='sparse'\n",
    ")\n",
    "\n",
    "test_generator = test_datagen.flow_from_directory(\n",
    "    test_dir,\n",
    "    target_size=(64, 64),\n",
    "    batch_size=batch_size,\n",
    "    class_mode='sparse'\n",
    ")\n",
    "\n",
    "# 모델 컴파일 및 학습 설정\n",
    "batch_size = 32\n",
    "epochs = 10\n",
    "epsilon = 0.1  # FGSM 공격에서 사용할 epsilon\n",
    "optimizer = tf.keras.optimizers.Adam(learning_rate=0.001)"
   ]
  },
  {
   "cell_type": "code",
   "execution_count": 26,
   "metadata": {},
   "outputs": [
    {
     "name": "stdout",
     "output_type": "stream",
     "text": [
      "Epoch 1/10\n"
     ]
    }
   ],
   "source": [
    "# Adversarial Training 루프\n",
    "for epoch in range(epochs):\n",
    "    print(f\"Epoch {epoch + 1}/{epochs}\")\n",
    "    \n",
    "    for batch_images, batch_labels in train_generator:\n",
    "        # FGSM 공격으로 적대적 예제 생성\n",
    "        adversarial_images = fgsm_attack(model, batch_images, batch_labels, epsilon)\n",
    "        \n",
    "        # 원본 및 적대적 예제 학습\n",
    "        with tf.GradientTape() as tape:\n",
    "            predictions = model(batch_images, training=True)\n",
    "            adv_predictions = model(adversarial_images, training=True)\n",
    "            loss = tf.keras.losses.sparse_categorical_crossentropy(batch_labels, predictions)\n",
    "            adv_loss = tf.keras.losses.sparse_categorical_crossentropy(batch_labels, adv_predictions)\n",
    "            total_loss = loss + adv_loss\n",
    "        \n",
    "        gradients = tape.gradient(total_loss, model.trainable_variables)\n",
    "        optimizer.apply_gradients(zip(gradients, model.trainable_variables))\n",
    "        \n",
    "        # 가시화: 주기적으로 생성된 적대적 예제를 시각적으로 비교\n",
    "        if np.random.rand() < 0.1:  # 10% 확률로 가시화\n",
    "            original_image = batch_images[0] * 255\n",
    "            adversarial_image = adversarial_images[0].numpy() * 255\n",
    "            original_image = np.clip(original_image, 0, 255).astype(\"uint8\")\n",
    "            adversarial_image = np.clip(adversarial_image, 0, 255).astype(\"uint8\")\n",
    "            \n",
    "            # 이미지 나란히 보여주기\n",
    "            combined = np.hstack([original_image, adversarial_image])\n",
    "            cv2.imshow(\"Original vs Adversarial\", cv2.resize(combined, (768, 384)))\n",
    "            cv2.waitKey(500)"
   ]
  },
  {
   "cell_type": "code",
   "execution_count": null,
   "metadata": {},
   "outputs": [],
   "source": [
    "# 에포크 종료 시 가시화 창 닫기\n",
    "cv2.destroyAllWindows()"
   ]
  }
 ],
 "metadata": {
  "kernelspec": {
   "display_name": "rltrader",
   "language": "python",
   "name": "python3"
  },
  "language_info": {
   "codemirror_mode": {
    "name": "ipython",
    "version": 3
   },
   "file_extension": ".py",
   "mimetype": "text/x-python",
   "name": "python",
   "nbconvert_exporter": "python",
   "pygments_lexer": "ipython3",
   "version": "3.12.4"
  }
 },
 "nbformat": 4,
 "nbformat_minor": 2
}
